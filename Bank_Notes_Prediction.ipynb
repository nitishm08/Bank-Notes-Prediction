{
  "nbformat": 4,
  "nbformat_minor": 0,
  "metadata": {
    "colab": {
      "name": "Bank Notes Prediction",
      "provenance": [],
      "mount_file_id": "1SOW-5lzYCUQl55VTn1VkMs3F6N4jkKbN",
      "authorship_tag": "ABX9TyO0euZhvLhoTkowvFYumBfp",
      "include_colab_link": true
    },
    "kernelspec": {
      "name": "python3",
      "display_name": "Python 3"
    }
  },
  "cells": [
    {
      "cell_type": "markdown",
      "metadata": {
        "id": "view-in-github",
        "colab_type": "text"
      },
      "source": [
        "<a href=\"https://colab.research.google.com/github/nitishm08/Bank-Notes-Prediction/blob/master/Bank_Notes_Prediction.ipynb\" target=\"_parent\"><img src=\"https://colab.research.google.com/assets/colab-badge.svg\" alt=\"Open In Colab\"/></a>"
      ]
    },
    {
      "cell_type": "code",
      "metadata": {
        "id": "P_NE3rV9qqi5",
        "colab_type": "code",
        "colab": {
          "base_uri": "https://localhost:8080/",
          "height": 71
        },
        "outputId": "aa02e988-fc7f-45c5-a63c-fa3fc1fa9928"
      },
      "source": [
        "import pandas as pd\n",
        "import numpy as np \n",
        "import tensorflow as tf\n",
        "import matplotlib.pyplot as plt\n",
        "import seaborn as sns"
      ],
      "execution_count": 2,
      "outputs": [
        {
          "output_type": "stream",
          "text": [
            "/usr/local/lib/python3.6/dist-packages/statsmodels/tools/_testing.py:19: FutureWarning: pandas.util.testing is deprecated. Use the functions in the public API at pandas.testing instead.\n",
            "  import pandas.util.testing as tm\n"
          ],
          "name": "stderr"
        }
      ]
    },
    {
      "cell_type": "code",
      "metadata": {
        "id": "pf8DLeVhqxJS",
        "colab_type": "code",
        "colab": {}
      },
      "source": [
        "df=pd.read_csv('/content/drive/My Drive/Python for Data Science/22-Deep Learning/bank_note_data.csv')"
      ],
      "execution_count": 3,
      "outputs": []
    },
    {
      "cell_type": "code",
      "metadata": {
        "id": "SjnnrHcgrZ9j",
        "colab_type": "code",
        "colab": {
          "base_uri": "https://localhost:8080/",
          "height": 111
        },
        "outputId": "a2e90db4-17ac-4079-ab75-6856fbd4a073"
      },
      "source": [
        "df.head(2)"
      ],
      "execution_count": 4,
      "outputs": [
        {
          "output_type": "execute_result",
          "data": {
            "text/html": [
              "<div>\n",
              "<style scoped>\n",
              "    .dataframe tbody tr th:only-of-type {\n",
              "        vertical-align: middle;\n",
              "    }\n",
              "\n",
              "    .dataframe tbody tr th {\n",
              "        vertical-align: top;\n",
              "    }\n",
              "\n",
              "    .dataframe thead th {\n",
              "        text-align: right;\n",
              "    }\n",
              "</style>\n",
              "<table border=\"1\" class=\"dataframe\">\n",
              "  <thead>\n",
              "    <tr style=\"text-align: right;\">\n",
              "      <th></th>\n",
              "      <th>Image.Var</th>\n",
              "      <th>Image.Skew</th>\n",
              "      <th>Image.Curt</th>\n",
              "      <th>Entropy</th>\n",
              "      <th>Class</th>\n",
              "    </tr>\n",
              "  </thead>\n",
              "  <tbody>\n",
              "    <tr>\n",
              "      <th>0</th>\n",
              "      <td>3.6216</td>\n",
              "      <td>8.6661</td>\n",
              "      <td>-2.8073</td>\n",
              "      <td>-0.44699</td>\n",
              "      <td>0</td>\n",
              "    </tr>\n",
              "    <tr>\n",
              "      <th>1</th>\n",
              "      <td>4.5459</td>\n",
              "      <td>8.1674</td>\n",
              "      <td>-2.4586</td>\n",
              "      <td>-1.46210</td>\n",
              "      <td>0</td>\n",
              "    </tr>\n",
              "  </tbody>\n",
              "</table>\n",
              "</div>"
            ],
            "text/plain": [
              "   Image.Var  Image.Skew  Image.Curt  Entropy  Class\n",
              "0     3.6216      8.6661     -2.8073 -0.44699      0\n",
              "1     4.5459      8.1674     -2.4586 -1.46210      0"
            ]
          },
          "metadata": {
            "tags": []
          },
          "execution_count": 4
        }
      ]
    },
    {
      "cell_type": "code",
      "metadata": {
        "id": "NMU79allrbwh",
        "colab_type": "code",
        "colab": {
          "base_uri": "https://localhost:8080/",
          "height": 221
        },
        "outputId": "5b066153-018a-4a86-ffcf-cd0cfcb1e223"
      },
      "source": [
        "df.info()"
      ],
      "execution_count": 5,
      "outputs": [
        {
          "output_type": "stream",
          "text": [
            "<class 'pandas.core.frame.DataFrame'>\n",
            "RangeIndex: 1372 entries, 0 to 1371\n",
            "Data columns (total 5 columns):\n",
            " #   Column      Non-Null Count  Dtype  \n",
            "---  ------      --------------  -----  \n",
            " 0   Image.Var   1372 non-null   float64\n",
            " 1   Image.Skew  1372 non-null   float64\n",
            " 2   Image.Curt  1372 non-null   float64\n",
            " 3   Entropy     1372 non-null   float64\n",
            " 4   Class       1372 non-null   int64  \n",
            "dtypes: float64(4), int64(1)\n",
            "memory usage: 53.7 KB\n"
          ],
          "name": "stdout"
        }
      ]
    },
    {
      "cell_type": "code",
      "metadata": {
        "id": "C9gxNMmdre27",
        "colab_type": "code",
        "colab": {
          "base_uri": "https://localhost:8080/",
          "height": 297
        },
        "outputId": "540941d4-c452-4989-e41a-373d5933d6d5"
      },
      "source": [
        "df.describe()"
      ],
      "execution_count": 6,
      "outputs": [
        {
          "output_type": "execute_result",
          "data": {
            "text/html": [
              "<div>\n",
              "<style scoped>\n",
              "    .dataframe tbody tr th:only-of-type {\n",
              "        vertical-align: middle;\n",
              "    }\n",
              "\n",
              "    .dataframe tbody tr th {\n",
              "        vertical-align: top;\n",
              "    }\n",
              "\n",
              "    .dataframe thead th {\n",
              "        text-align: right;\n",
              "    }\n",
              "</style>\n",
              "<table border=\"1\" class=\"dataframe\">\n",
              "  <thead>\n",
              "    <tr style=\"text-align: right;\">\n",
              "      <th></th>\n",
              "      <th>Image.Var</th>\n",
              "      <th>Image.Skew</th>\n",
              "      <th>Image.Curt</th>\n",
              "      <th>Entropy</th>\n",
              "      <th>Class</th>\n",
              "    </tr>\n",
              "  </thead>\n",
              "  <tbody>\n",
              "    <tr>\n",
              "      <th>count</th>\n",
              "      <td>1372.000000</td>\n",
              "      <td>1372.000000</td>\n",
              "      <td>1372.000000</td>\n",
              "      <td>1372.000000</td>\n",
              "      <td>1372.000000</td>\n",
              "    </tr>\n",
              "    <tr>\n",
              "      <th>mean</th>\n",
              "      <td>0.433735</td>\n",
              "      <td>1.922353</td>\n",
              "      <td>1.397627</td>\n",
              "      <td>-1.191657</td>\n",
              "      <td>0.444606</td>\n",
              "    </tr>\n",
              "    <tr>\n",
              "      <th>std</th>\n",
              "      <td>2.842763</td>\n",
              "      <td>5.869047</td>\n",
              "      <td>4.310030</td>\n",
              "      <td>2.101013</td>\n",
              "      <td>0.497103</td>\n",
              "    </tr>\n",
              "    <tr>\n",
              "      <th>min</th>\n",
              "      <td>-7.042100</td>\n",
              "      <td>-13.773100</td>\n",
              "      <td>-5.286100</td>\n",
              "      <td>-8.548200</td>\n",
              "      <td>0.000000</td>\n",
              "    </tr>\n",
              "    <tr>\n",
              "      <th>25%</th>\n",
              "      <td>-1.773000</td>\n",
              "      <td>-1.708200</td>\n",
              "      <td>-1.574975</td>\n",
              "      <td>-2.413450</td>\n",
              "      <td>0.000000</td>\n",
              "    </tr>\n",
              "    <tr>\n",
              "      <th>50%</th>\n",
              "      <td>0.496180</td>\n",
              "      <td>2.319650</td>\n",
              "      <td>0.616630</td>\n",
              "      <td>-0.586650</td>\n",
              "      <td>0.000000</td>\n",
              "    </tr>\n",
              "    <tr>\n",
              "      <th>75%</th>\n",
              "      <td>2.821475</td>\n",
              "      <td>6.814625</td>\n",
              "      <td>3.179250</td>\n",
              "      <td>0.394810</td>\n",
              "      <td>1.000000</td>\n",
              "    </tr>\n",
              "    <tr>\n",
              "      <th>max</th>\n",
              "      <td>6.824800</td>\n",
              "      <td>12.951600</td>\n",
              "      <td>17.927400</td>\n",
              "      <td>2.449500</td>\n",
              "      <td>1.000000</td>\n",
              "    </tr>\n",
              "  </tbody>\n",
              "</table>\n",
              "</div>"
            ],
            "text/plain": [
              "         Image.Var   Image.Skew   Image.Curt      Entropy        Class\n",
              "count  1372.000000  1372.000000  1372.000000  1372.000000  1372.000000\n",
              "mean      0.433735     1.922353     1.397627    -1.191657     0.444606\n",
              "std       2.842763     5.869047     4.310030     2.101013     0.497103\n",
              "min      -7.042100   -13.773100    -5.286100    -8.548200     0.000000\n",
              "25%      -1.773000    -1.708200    -1.574975    -2.413450     0.000000\n",
              "50%       0.496180     2.319650     0.616630    -0.586650     0.000000\n",
              "75%       2.821475     6.814625     3.179250     0.394810     1.000000\n",
              "max       6.824800    12.951600    17.927400     2.449500     1.000000"
            ]
          },
          "metadata": {
            "tags": []
          },
          "execution_count": 6
        }
      ]
    },
    {
      "cell_type": "code",
      "metadata": {
        "id": "LlVPW1MSrhkv",
        "colab_type": "code",
        "colab": {
          "base_uri": "https://localhost:8080/",
          "height": 300
        },
        "outputId": "49f5c1d2-2bc2-4297-89b7-06336b9aa25b"
      },
      "source": [
        "sns.countplot(df['Class'])"
      ],
      "execution_count": 7,
      "outputs": [
        {
          "output_type": "execute_result",
          "data": {
            "text/plain": [
              "<matplotlib.axes._subplots.AxesSubplot at 0x7fdfbc02dc18>"
            ]
          },
          "metadata": {
            "tags": []
          },
          "execution_count": 7
        },
        {
          "output_type": "display_data",
          "data": {
            "image/png": "[encoded data removed]",
            "text/plain": [
              "<Figure size 432x288 with 1 Axes>"
            ]
          },
          "metadata": {
            "tags": [],
            "needs_background": "light"
          }
        }
      ]
    },
    {
      "cell_type": "code",
      "metadata": {
        "id": "5wcqM_KKrtmS",
        "colab_type": "code",
        "colab": {
          "base_uri": "https://localhost:8080/",
          "height": 204
        },
        "outputId": "9f00ba51-736a-409c-c84e-7e5a1db1c412"
      },
      "source": [
        "df.corr()"
      ],
      "execution_count": 8,
      "outputs": [
        {
          "output_type": "execute_result",
          "data": {
            "text/html": [
              "<div>\n",
              "<style scoped>\n",
              "    .dataframe tbody tr th:only-of-type {\n",
              "        vertical-align: middle;\n",
              "    }\n",
              "\n",
              "    .dataframe tbody tr th {\n",
              "        vertical-align: top;\n",
              "    }\n",
              "\n",
              "    .dataframe thead th {\n",
              "        text-align: right;\n",
              "    }\n",
              "</style>\n",
              "<table border=\"1\" class=\"dataframe\">\n",
              "  <thead>\n",
              "    <tr style=\"text-align: right;\">\n",
              "      <th></th>\n",
              "      <th>Image.Var</th>\n",
              "      <th>Image.Skew</th>\n",
              "      <th>Image.Curt</th>\n",
              "      <th>Entropy</th>\n",
              "      <th>Class</th>\n",
              "    </tr>\n",
              "  </thead>\n",
              "  <tbody>\n",
              "    <tr>\n",
              "      <th>Image.Var</th>\n",
              "      <td>1.000000</td>\n",
              "      <td>0.264026</td>\n",
              "      <td>-0.380850</td>\n",
              "      <td>0.276817</td>\n",
              "      <td>-0.724843</td>\n",
              "    </tr>\n",
              "    <tr>\n",
              "      <th>Image.Skew</th>\n",
              "      <td>0.264026</td>\n",
              "      <td>1.000000</td>\n",
              "      <td>-0.786895</td>\n",
              "      <td>-0.526321</td>\n",
              "      <td>-0.444688</td>\n",
              "    </tr>\n",
              "    <tr>\n",
              "      <th>Image.Curt</th>\n",
              "      <td>-0.380850</td>\n",
              "      <td>-0.786895</td>\n",
              "      <td>1.000000</td>\n",
              "      <td>0.318841</td>\n",
              "      <td>0.155883</td>\n",
              "    </tr>\n",
              "    <tr>\n",
              "      <th>Entropy</th>\n",
              "      <td>0.276817</td>\n",
              "      <td>-0.526321</td>\n",
              "      <td>0.318841</td>\n",
              "      <td>1.000000</td>\n",
              "      <td>-0.023424</td>\n",
              "    </tr>\n",
              "    <tr>\n",
              "      <th>Class</th>\n",
              "      <td>-0.724843</td>\n",
              "      <td>-0.444688</td>\n",
              "      <td>0.155883</td>\n",
              "      <td>-0.023424</td>\n",
              "      <td>1.000000</td>\n",
              "    </tr>\n",
              "  </tbody>\n",
              "</table>\n",
              "</div>"
            ],
            "text/plain": [
              "            Image.Var  Image.Skew  Image.Curt   Entropy     Class\n",
              "Image.Var    1.000000    0.264026   -0.380850  0.276817 -0.724843\n",
              "Image.Skew   0.264026    1.000000   -0.786895 -0.526321 -0.444688\n",
              "Image.Curt  -0.380850   -0.786895    1.000000  0.318841  0.155883\n",
              "Entropy      0.276817   -0.526321    0.318841  1.000000 -0.023424\n",
              "Class       -0.724843   -0.444688    0.155883 -0.023424  1.000000"
            ]
          },
          "metadata": {
            "tags": []
          },
          "execution_count": 8
        }
      ]
    },
    {
      "cell_type": "code",
      "metadata": {
        "id": "L20bgoz7ryTp",
        "colab_type": "code",
        "colab": {
          "base_uri": "https://localhost:8080/",
          "height": 337
        },
        "outputId": "c7aeebc7-f343-430d-99c5-fb711c5ce6b3"
      },
      "source": [
        "sns.heatmap(df.corr(),cmap='coolwarm')"
      ],
      "execution_count": 11,
      "outputs": [
        {
          "output_type": "execute_result",
          "data": {
            "text/plain": [
              "<matplotlib.axes._subplots.AxesSubplot at 0x7fdfbbe22400>"
            ]
          },
          "metadata": {
            "tags": []
          },
          "execution_count": 11
        },
        {
          "output_type": "display_data",
          "data": {
            "image/png": "[encoded data removed]",
            "text/plain": [
              "<Figure size 432x288 with 2 Axes>"
            ]
          },
          "metadata": {
            "tags": [],
            "needs_background": "light"
          }
        }
      ]
    },
    {
      "cell_type": "code",
      "metadata": {
        "id": "tpzm833xsAXZ",
        "colab_type": "code",
        "colab": {
          "base_uri": "https://localhost:8080/",
          "height": 296
        },
        "outputId": "0801efc1-57e4-4282-f96f-e6e120012973"
      },
      "source": [
        "sns.distplot(df[df['Class']==0]['Image.Var'],bins=15,hist_kws=dict(edgecolor='black'),color='red',label='Class=0')\n",
        "sns.distplot(df[df['Class']==1]['Image.Var'],bins=15,hist_kws=dict(edgecolor='black'),color='blue',label='Class=1')\n",
        "plt.legend()"
      ],
      "execution_count": 32,
      "outputs": [
        {
          "output_type": "execute_result",
          "data": {
            "text/plain": [
              "<matplotlib.legend.Legend at 0x7fdfb7641780>"
            ]
          },
          "metadata": {
            "tags": []
          },
          "execution_count": 32
        },
        {
          "output_type": "display_data",
          "data": {
            "image/png": "[encoded data removed]",
            "text/plain": [
              "<Figure size 432x288 with 1 Axes>"
            ]
          },
          "metadata": {
            "tags": [],
            "needs_background": "light"
          }
        }
      ]
    },
    {
      "cell_type": "code",
      "metadata": {
        "id": "6mdPWXvKsYCu",
        "colab_type": "code",
        "colab": {
          "base_uri": "https://localhost:8080/",
          "height": 296
        },
        "outputId": "e8c5dbec-24cc-47bb-a532-5a760541a8dd"
      },
      "source": [
        "sns.scatterplot(x='Image.Curt',y='Image.Skew',data=df,hue='Class')"
      ],
      "execution_count": 34,
      "outputs": [
        {
          "output_type": "execute_result",
          "data": {
            "text/plain": [
              "<matplotlib.axes._subplots.AxesSubplot at 0x7fdfb7c5ee48>"
            ]
          },
          "metadata": {
            "tags": []
          },
          "execution_count": 34
        },
        {
          "output_type": "display_data",
          "data": {
            "image/png": "[encoded data removed]",
            "text/plain": [
              "<Figure size 432x288 with 1 Axes>"
            ]
          },
          "metadata": {
            "tags": [],
            "needs_background": "light"
          }
        }
      ]
    },
    {
      "cell_type": "code",
      "metadata": {
        "id": "MeDLdjqt1Frr",
        "colab_type": "code",
        "colab": {}
      },
      "source": [
        "from sklearn.model_selection import train_test_split"
      ],
      "execution_count": 37,
      "outputs": []
    },
    {
      "cell_type": "code",
      "metadata": {
        "id": "NX5MEU6-1Fpw",
        "colab_type": "code",
        "colab": {}
      },
      "source": [
        "X=df.drop('Class',axis=1).values\n",
        "y=df['Class'].values\n",
        "\n",
        "X_train, X_test, y_train, y_test = train_test_split( X, y, test_size=0.3, random_state=101)"
      ],
      "execution_count": 40,
      "outputs": []
    },
    {
      "cell_type": "code",
      "metadata": {
        "id": "b1PzF1We1lmz",
        "colab_type": "code",
        "colab": {}
      },
      "source": [
        "from sklearn.preprocessing import StandardScaler"
      ],
      "execution_count": 43,
      "outputs": []
    },
    {
      "cell_type": "code",
      "metadata": {
        "id": "Id9sGiaG1tul",
        "colab_type": "code",
        "colab": {}
      },
      "source": [
        "scaler=StandardScaler()"
      ],
      "execution_count": 44,
      "outputs": []
    },
    {
      "cell_type": "code",
      "metadata": {
        "id": "6R1wSQ9a1wJ_",
        "colab_type": "code",
        "colab": {}
      },
      "source": [
        "X_train=scaler.fit_transform(X_train)\n",
        "X_test=scaler.transform(X_test)"
      ],
      "execution_count": 45,
      "outputs": []
    },
    {
      "cell_type": "code",
      "metadata": {
        "id": "9GhDpS9306iL",
        "colab_type": "code",
        "colab": {}
      },
      "source": [
        "from xgboost import XGBRFClassifier"
      ],
      "execution_count": 46,
      "outputs": []
    },
    {
      "cell_type": "code",
      "metadata": {
        "id": "ft5ik4qQ1AO4",
        "colab_type": "code",
        "colab": {}
      },
      "source": [
        "classifier=XGBRFClassifier()"
      ],
      "execution_count": 47,
      "outputs": []
    },
    {
      "cell_type": "code",
      "metadata": {
        "id": "Nc_bsqlw1EZD",
        "colab_type": "code",
        "colab": {
          "base_uri": "https://localhost:8080/",
          "height": 119
        },
        "outputId": "fa66fec1-3ab2-408f-cece-24fb91bf6aea"
      },
      "source": [
        "classifier.fit(X_train,y_train)"
      ],
      "execution_count": 48,
      "outputs": [
        {
          "output_type": "execute_result",
          "data": {
            "text/plain": [
              "XGBRFClassifier(base_score=0.5, colsample_bylevel=1, colsample_bynode=0.8,\n",
              "                colsample_bytree=1, gamma=0, learning_rate=1, max_delta_step=0,\n",
              "                max_depth=3, min_child_weight=1, missing=None, n_estimators=100,\n",
              "                n_jobs=1, nthread=None, objective='binary:logistic',\n",
              "                random_state=0, reg_alpha=0, reg_lambda=1, scale_pos_weight=1,\n",
              "                seed=None, silent=None, subsample=0.8, verbosity=1)"
            ]
          },
          "metadata": {
            "tags": []
          },
          "execution_count": 48
        }
      ]
    },
    {
      "cell_type": "code",
      "metadata": {
        "id": "3K8WRjTw2RCR",
        "colab_type": "code",
        "colab": {}
      },
      "source": [
        "prediction=classifier.predict(X_test)"
      ],
      "execution_count": 49,
      "outputs": []
    },
    {
      "cell_type": "code",
      "metadata": {
        "id": "CTQD1RAq2bJL",
        "colab_type": "code",
        "colab": {}
      },
      "source": [
        "from sklearn.metrics import confusion_matrix,classification_report"
      ],
      "execution_count": 50,
      "outputs": []
    },
    {
      "cell_type": "code",
      "metadata": {
        "id": "fVeIxkKI2hGA",
        "colab_type": "code",
        "colab": {
          "base_uri": "https://localhost:8080/",
          "height": 51
        },
        "outputId": "f33744ef-865e-45f6-b91f-1edee82f3d33"
      },
      "source": [
        "print(confusion_matrix(y_test,prediction))"
      ],
      "execution_count": 51,
      "outputs": [
        {
          "output_type": "stream",
          "text": [
            "[[227  11]\n",
            " [ 10 164]]\n"
          ],
          "name": "stdout"
        }
      ]
    },
    {
      "cell_type": "code",
      "metadata": {
        "id": "vtDZ4PzS2mAH",
        "colab_type": "code",
        "colab": {
          "base_uri": "https://localhost:8080/",
          "height": 170
        },
        "outputId": "f63a45f4-f447-4aff-f24a-e2e66615f98c"
      },
      "source": [
        "print(classification_report(y_test,prediction))"
      ],
      "execution_count": 52,
      "outputs": [
        {
          "output_type": "stream",
          "text": [
            "              precision    recall  f1-score   support\n",
            "\n",
            "           0       0.96      0.95      0.96       238\n",
            "           1       0.94      0.94      0.94       174\n",
            "\n",
            "    accuracy                           0.95       412\n",
            "   macro avg       0.95      0.95      0.95       412\n",
            "weighted avg       0.95      0.95      0.95       412\n",
            "\n"
          ],
          "name": "stdout"
        }
      ]
    },
    {
      "cell_type": "code",
      "metadata": {
        "id": "aX5zXWKv2ugn",
        "colab_type": "code",
        "colab": {}
      },
      "source": [
        "from keras.layers import Dense,Dropout\n",
        "from keras.models import Sequential"
      ],
      "execution_count": 55,
      "outputs": []
    },
    {
      "cell_type": "code",
      "metadata": {
        "id": "RjAcKAuM5QXA",
        "colab_type": "code",
        "colab": {
          "base_uri": "https://localhost:8080/",
          "height": 34
        },
        "outputId": "0231c85c-24da-484d-b757-5f6728c87706"
      },
      "source": [
        "X.shape"
      ],
      "execution_count": 58,
      "outputs": [
        {
          "output_type": "execute_result",
          "data": {
            "text/plain": [
              "(1372, 4)"
            ]
          },
          "metadata": {
            "tags": []
          },
          "execution_count": 58
        }
      ]
    },
    {
      "cell_type": "code",
      "metadata": {
        "id": "RwYEW-du478v",
        "colab_type": "code",
        "colab": {}
      },
      "source": [
        "model=Sequential()\n",
        "\n",
        "model.add(Dense(units=16,activation='relu'))\n",
        "model.add(Dropout(0.3))\n",
        "\n",
        "model.add(Dense(units=16,activation='relu'))\n",
        "model.add(Dropout(0.3))\n",
        "\n",
        "model.add(Dense(units=1,activation='sigmoid'))\n",
        "model.compile(optimizer='adam',loss='binary_crossentropy')"
      ],
      "execution_count": 117,
      "outputs": []
    },
    {
      "cell_type": "code",
      "metadata": {
        "id": "qAEymz255PkE",
        "colab_type": "code",
        "colab": {}
      },
      "source": [
        "from keras.callbacks import EarlyStopping"
      ],
      "execution_count": 118,
      "outputs": []
    },
    {
      "cell_type": "code",
      "metadata": {
        "id": "Pkewh7L16mxw",
        "colab_type": "code",
        "colab": {}
      },
      "source": [
        "early_stop=EarlyStopping(monitor='val_loss',patience=10,verbose=1,mode='min')"
      ],
      "execution_count": 119,
      "outputs": []
    },
    {
      "cell_type": "code",
      "metadata": {
        "id": "4KFSvJhu7Oq8",
        "colab_type": "code",
        "colab": {}
      },
      "source": [
        "X=df.drop('Class',axis=1).values\n",
        "y=df['Class'].values\n",
        "\n",
        "X_train, X_test, y_train, y_test = train_test_split( X, y, test_size=0.3, random_state=101)"
      ],
      "execution_count": 120,
      "outputs": []
    },
    {
      "cell_type": "code",
      "metadata": {
        "id": "9oitOi5b7Tmg",
        "colab_type": "code",
        "colab": {}
      },
      "source": [
        "from sklearn.preprocessing import MinMaxScaler"
      ],
      "execution_count": 121,
      "outputs": []
    },
    {
      "cell_type": "code",
      "metadata": {
        "id": "wZdHJcOO7Xq5",
        "colab_type": "code",
        "colab": {}
      },
      "source": [
        "scaler=MinMaxScaler()"
      ],
      "execution_count": 122,
      "outputs": []
    },
    {
      "cell_type": "code",
      "metadata": {
        "id": "9wCTFewN7b39",
        "colab_type": "code",
        "colab": {}
      },
      "source": [
        "X_train=scaler.fit_transform(X_train)\n",
        "X_test=scaler.transform(X_test)"
      ],
      "execution_count": 123,
      "outputs": []
    },
    {
      "cell_type": "code",
      "metadata": {
        "id": "kWFYvBEn62xX",
        "colab_type": "code",
        "colab": {
          "base_uri": "https://localhost:8080/",
          "height": 1000
        },
        "outputId": "7b27e928-cac0-4854-bd1e-3c4753fabb7f"
      },
      "source": [
        "model.fit(X_train,y_train,epochs=400,callbacks=[early_stop],validation_data=(X_test,y_test))"
      ],
      "execution_count": 124,
      "outputs": [
        {
          "output_type": "stream",
          "text": [
            "Train on 960 samples, validate on 412 samples\n",
            "Epoch 1/400\n",
            "960/960 [==============================] - 0s 198us/step - loss: 0.6734 - val_loss: 0.6388\n",
            "Epoch 2/400\n",
            "960/960 [==============================] - 0s 50us/step - loss: 0.6607 - val_loss: 0.6221\n",
            "Epoch 3/400\n",
            "960/960 [==============================] - 0s 54us/step - loss: 0.6492 - val_loss: 0.6065\n",
            "Epoch 4/400\n",
            "960/960 [==============================] - 0s 48us/step - loss: 0.6212 - val_loss: 0.5836\n",
            "Epoch 5/400\n",
            "960/960 [==============================] - 0s 48us/step - loss: 0.5987 - val_loss: 0.5588\n",
            "Epoch 6/400\n",
            "960/960 [==============================] - 0s 50us/step - loss: 0.5757 - val_loss: 0.5341\n",
            "Epoch 7/400\n",
            "960/960 [==============================] - 0s 51us/step - loss: 0.5619 - val_loss: 0.5080\n",
            "Epoch 8/400\n",
            "960/960 [==============================] - 0s 54us/step - loss: 0.5554 - val_loss: 0.4839\n",
            "Epoch 9/400\n",
            "960/960 [==============================] - 0s 52us/step - loss: 0.5380 - val_loss: 0.4619\n",
            "Epoch 10/400\n",
            "960/960 [==============================] - 0s 49us/step - loss: 0.5155 - val_loss: 0.4435\n",
            "Epoch 11/400\n",
            "960/960 [==============================] - 0s 50us/step - loss: 0.4924 - val_loss: 0.4211\n",
            "Epoch 12/400\n",
            "960/960 [==============================] - 0s 52us/step - loss: 0.4676 - val_loss: 0.3989\n",
            "Epoch 13/400\n",
            "960/960 [==============================] - 0s 54us/step - loss: 0.4449 - val_loss: 0.3787\n",
            "Epoch 14/400\n",
            "960/960 [==============================] - 0s 49us/step - loss: 0.4295 - val_loss: 0.3599\n",
            "Epoch 15/400\n",
            "960/960 [==============================] - 0s 54us/step - loss: 0.4056 - val_loss: 0.3389\n",
            "Epoch 16/400\n",
            "960/960 [==============================] - 0s 55us/step - loss: 0.3860 - val_loss: 0.3227\n",
            "Epoch 17/400\n",
            "960/960 [==============================] - 0s 51us/step - loss: 0.3993 - val_loss: 0.3058\n",
            "Epoch 18/400\n",
            "960/960 [==============================] - 0s 50us/step - loss: 0.3720 - val_loss: 0.2973\n",
            "Epoch 19/400\n",
            "960/960 [==============================] - 0s 51us/step - loss: 0.3657 - val_loss: 0.2774\n",
            "Epoch 20/400\n",
            "960/960 [==============================] - 0s 52us/step - loss: 0.3478 - val_loss: 0.2685\n",
            "Epoch 21/400\n",
            "960/960 [==============================] - 0s 57us/step - loss: 0.3281 - val_loss: 0.2522\n",
            "Epoch 22/400\n",
            "960/960 [==============================] - 0s 59us/step - loss: 0.3223 - val_loss: 0.2404\n",
            "Epoch 23/400\n",
            "960/960 [==============================] - 0s 60us/step - loss: 0.3139 - val_loss: 0.2252\n",
            "Epoch 24/400\n",
            "960/960 [==============================] - 0s 50us/step - loss: 0.3234 - val_loss: 0.2169\n",
            "Epoch 25/400\n",
            "960/960 [==============================] - 0s 50us/step - loss: 0.2939 - val_loss: 0.2105\n",
            "Epoch 26/400\n",
            "960/960 [==============================] - 0s 52us/step - loss: 0.2836 - val_loss: 0.1950\n",
            "Epoch 27/400\n",
            "960/960 [==============================] - 0s 51us/step - loss: 0.2764 - val_loss: 0.1905\n",
            "Epoch 28/400\n",
            "960/960 [==============================] - 0s 51us/step - loss: 0.2590 - val_loss: 0.1773\n",
            "Epoch 29/400\n",
            "960/960 [==============================] - 0s 51us/step - loss: 0.2488 - val_loss: 0.1661\n",
            "Epoch 30/400\n",
            "960/960 [==============================] - 0s 51us/step - loss: 0.2221 - val_loss: 0.1549\n",
            "Epoch 31/400\n",
            "960/960 [==============================] - 0s 50us/step - loss: 0.2220 - val_loss: 0.1477\n",
            "Epoch 32/400\n",
            "960/960 [==============================] - 0s 54us/step - loss: 0.2232 - val_loss: 0.1408\n",
            "Epoch 33/400\n",
            "960/960 [==============================] - 0s 51us/step - loss: 0.2245 - val_loss: 0.1354\n",
            "Epoch 34/400\n",
            "960/960 [==============================] - 0s 53us/step - loss: 0.2046 - val_loss: 0.1248\n",
            "Epoch 35/400\n",
            "960/960 [==============================] - 0s 54us/step - loss: 0.2166 - val_loss: 0.1198\n",
            "Epoch 36/400\n",
            "960/960 [==============================] - 0s 52us/step - loss: 0.1910 - val_loss: 0.1104\n",
            "Epoch 37/400\n",
            "960/960 [==============================] - 0s 55us/step - loss: 0.1821 - val_loss: 0.1044\n",
            "Epoch 38/400\n",
            "960/960 [==============================] - 0s 49us/step - loss: 0.1706 - val_loss: 0.1016\n",
            "Epoch 39/400\n",
            "960/960 [==============================] - 0s 52us/step - loss: 0.1771 - val_loss: 0.0950\n",
            "Epoch 40/400\n",
            "960/960 [==============================] - 0s 54us/step - loss: 0.1873 - val_loss: 0.0943\n",
            "Epoch 41/400\n",
            "960/960 [==============================] - 0s 50us/step - loss: 0.1654 - val_loss: 0.0868\n",
            "Epoch 42/400\n",
            "960/960 [==============================] - 0s 51us/step - loss: 0.1506 - val_loss: 0.0820\n",
            "Epoch 43/400\n",
            "960/960 [==============================] - 0s 51us/step - loss: 0.1576 - val_loss: 0.0803\n",
            "Epoch 44/400\n",
            "960/960 [==============================] - 0s 52us/step - loss: 0.1449 - val_loss: 0.0729\n",
            "Epoch 45/400\n",
            "960/960 [==============================] - 0s 57us/step - loss: 0.1434 - val_loss: 0.0680\n",
            "Epoch 46/400\n",
            "960/960 [==============================] - 0s 51us/step - loss: 0.1416 - val_loss: 0.0654\n",
            "Epoch 47/400\n",
            "960/960 [==============================] - 0s 50us/step - loss: 0.1337 - val_loss: 0.0618\n",
            "Epoch 48/400\n",
            "960/960 [==============================] - 0s 49us/step - loss: 0.1176 - val_loss: 0.0593\n",
            "Epoch 49/400\n",
            "960/960 [==============================] - 0s 52us/step - loss: 0.1195 - val_loss: 0.0620\n",
            "Epoch 50/400\n",
            "960/960 [==============================] - 0s 53us/step - loss: 0.1297 - val_loss: 0.0535\n",
            "Epoch 51/400\n",
            "960/960 [==============================] - 0s 53us/step - loss: 0.1093 - val_loss: 0.0525\n",
            "Epoch 52/400\n",
            "960/960 [==============================] - 0s 53us/step - loss: 0.1198 - val_loss: 0.0479\n",
            "Epoch 53/400\n",
            "960/960 [==============================] - 0s 53us/step - loss: 0.1189 - val_loss: 0.0484\n",
            "Epoch 54/400\n",
            "960/960 [==============================] - 0s 48us/step - loss: 0.1164 - val_loss: 0.0475\n",
            "Epoch 55/400\n",
            "960/960 [==============================] - 0s 54us/step - loss: 0.1138 - val_loss: 0.0426\n",
            "Epoch 56/400\n",
            "960/960 [==============================] - 0s 53us/step - loss: 0.1058 - val_loss: 0.0419\n",
            "Epoch 57/400\n",
            "960/960 [==============================] - 0s 52us/step - loss: 0.1039 - val_loss: 0.0387\n",
            "Epoch 58/400\n",
            "960/960 [==============================] - 0s 54us/step - loss: 0.0967 - val_loss: 0.0383\n",
            "Epoch 59/400\n",
            "960/960 [==============================] - 0s 60us/step - loss: 0.0953 - val_loss: 0.0363\n",
            "Epoch 60/400\n",
            "960/960 [==============================] - 0s 53us/step - loss: 0.1057 - val_loss: 0.0429\n",
            "Epoch 61/400\n",
            "960/960 [==============================] - 0s 50us/step - loss: 0.0958 - val_loss: 0.0360\n",
            "Epoch 62/400\n",
            "960/960 [==============================] - 0s 57us/step - loss: 0.0988 - val_loss: 0.0325\n",
            "Epoch 63/400\n",
            "960/960 [==============================] - 0s 52us/step - loss: 0.0907 - val_loss: 0.0316\n",
            "Epoch 64/400\n",
            "960/960 [==============================] - 0s 51us/step - loss: 0.0836 - val_loss: 0.0305\n",
            "Epoch 65/400\n",
            "960/960 [==============================] - 0s 49us/step - loss: 0.0831 - val_loss: 0.0293\n",
            "Epoch 66/400\n",
            "960/960 [==============================] - 0s 52us/step - loss: 0.0780 - val_loss: 0.0279\n",
            "Epoch 67/400\n",
            "960/960 [==============================] - 0s 54us/step - loss: 0.0701 - val_loss: 0.0270\n",
            "Epoch 68/400\n",
            "960/960 [==============================] - 0s 50us/step - loss: 0.0854 - val_loss: 0.0294\n",
            "Epoch 69/400\n",
            "960/960 [==============================] - 0s 50us/step - loss: 0.0812 - val_loss: 0.0264\n",
            "Epoch 70/400\n",
            "960/960 [==============================] - 0s 47us/step - loss: 0.0677 - val_loss: 0.0254\n",
            "Epoch 71/400\n",
            "960/960 [==============================] - 0s 53us/step - loss: 0.0688 - val_loss: 0.0255\n",
            "Epoch 72/400\n",
            "960/960 [==============================] - 0s 49us/step - loss: 0.0665 - val_loss: 0.0249\n",
            "Epoch 73/400\n",
            "960/960 [==============================] - 0s 49us/step - loss: 0.0805 - val_loss: 0.0246\n",
            "Epoch 74/400\n",
            "960/960 [==============================] - 0s 48us/step - loss: 0.0656 - val_loss: 0.0234\n",
            "Epoch 75/400\n",
            "960/960 [==============================] - 0s 53us/step - loss: 0.0795 - val_loss: 0.0244\n",
            "Epoch 76/400\n",
            "960/960 [==============================] - 0s 52us/step - loss: 0.0714 - val_loss: 0.0231\n",
            "Epoch 77/400\n",
            "960/960 [==============================] - 0s 55us/step - loss: 0.0651 - val_loss: 0.0220\n",
            "Epoch 78/400\n",
            "960/960 [==============================] - 0s 50us/step - loss: 0.0643 - val_loss: 0.0202\n",
            "Epoch 79/400\n",
            "960/960 [==============================] - 0s 52us/step - loss: 0.0704 - val_loss: 0.0199\n",
            "Epoch 80/400\n",
            "960/960 [==============================] - 0s 50us/step - loss: 0.0611 - val_loss: 0.0193\n",
            "Epoch 81/400\n",
            "960/960 [==============================] - 0s 50us/step - loss: 0.0562 - val_loss: 0.0183\n",
            "Epoch 82/400\n",
            "960/960 [==============================] - 0s 56us/step - loss: 0.0551 - val_loss: 0.0172\n",
            "Epoch 83/400\n",
            "960/960 [==============================] - 0s 57us/step - loss: 0.0689 - val_loss: 0.0174\n",
            "Epoch 84/400\n",
            "960/960 [==============================] - 0s 50us/step - loss: 0.0500 - val_loss: 0.0163\n",
            "Epoch 85/400\n",
            "960/960 [==============================] - 0s 50us/step - loss: 0.0615 - val_loss: 0.0165\n",
            "Epoch 86/400\n",
            "960/960 [==============================] - 0s 50us/step - loss: 0.0543 - val_loss: 0.0163\n",
            "Epoch 87/400\n",
            "960/960 [==============================] - 0s 49us/step - loss: 0.0615 - val_loss: 0.0153\n",
            "Epoch 88/400\n",
            "960/960 [==============================] - 0s 52us/step - loss: 0.0542 - val_loss: 0.0152\n",
            "Epoch 89/400\n",
            "960/960 [==============================] - 0s 54us/step - loss: 0.0517 - val_loss: 0.0149\n",
            "Epoch 90/400\n",
            "960/960 [==============================] - 0s 50us/step - loss: 0.0553 - val_loss: 0.0148\n",
            "Epoch 91/400\n",
            "960/960 [==============================] - 0s 47us/step - loss: 0.0534 - val_loss: 0.0154\n",
            "Epoch 92/400\n",
            "960/960 [==============================] - 0s 56us/step - loss: 0.0477 - val_loss: 0.0131\n",
            "Epoch 93/400\n",
            "960/960 [==============================] - 0s 50us/step - loss: 0.0549 - val_loss: 0.0128\n",
            "Epoch 94/400\n",
            "960/960 [==============================] - 0s 68us/step - loss: 0.0446 - val_loss: 0.0137\n",
            "Epoch 95/400\n",
            "960/960 [==============================] - 0s 50us/step - loss: 0.0505 - val_loss: 0.0128\n",
            "Epoch 96/400\n",
            "960/960 [==============================] - 0s 50us/step - loss: 0.0438 - val_loss: 0.0127\n",
            "Epoch 97/400\n",
            "960/960 [==============================] - 0s 52us/step - loss: 0.0472 - val_loss: 0.0121\n",
            "Epoch 98/400\n",
            "960/960 [==============================] - 0s 57us/step - loss: 0.0442 - val_loss: 0.0110\n",
            "Epoch 99/400\n",
            "960/960 [==============================] - 0s 48us/step - loss: 0.0492 - val_loss: 0.0130\n",
            "Epoch 100/400\n",
            "960/960 [==============================] - 0s 53us/step - loss: 0.0414 - val_loss: 0.0113\n",
            "Epoch 101/400\n",
            "960/960 [==============================] - 0s 51us/step - loss: 0.0432 - val_loss: 0.0107\n",
            "Epoch 102/400\n",
            "960/960 [==============================] - 0s 56us/step - loss: 0.0543 - val_loss: 0.0128\n",
            "Epoch 103/400\n",
            "960/960 [==============================] - 0s 49us/step - loss: 0.0402 - val_loss: 0.0104\n",
            "Epoch 104/400\n",
            "960/960 [==============================] - 0s 54us/step - loss: 0.0507 - val_loss: 0.0110\n",
            "Epoch 105/400\n",
            "960/960 [==============================] - 0s 55us/step - loss: 0.0537 - val_loss: 0.0107\n",
            "Epoch 106/400\n",
            "960/960 [==============================] - 0s 53us/step - loss: 0.0527 - val_loss: 0.0108\n",
            "Epoch 107/400\n",
            "960/960 [==============================] - 0s 49us/step - loss: 0.0342 - val_loss: 0.0100\n",
            "Epoch 108/400\n",
            "960/960 [==============================] - 0s 52us/step - loss: 0.0399 - val_loss: 0.0103\n",
            "Epoch 109/400\n",
            "960/960 [==============================] - 0s 49us/step - loss: 0.0491 - val_loss: 0.0091\n",
            "Epoch 110/400\n",
            "960/960 [==============================] - 0s 51us/step - loss: 0.0337 - val_loss: 0.0120\n",
            "Epoch 111/400\n",
            "960/960 [==============================] - 0s 49us/step - loss: 0.0406 - val_loss: 0.0087\n",
            "Epoch 112/400\n",
            "960/960 [==============================] - 0s 50us/step - loss: 0.0432 - val_loss: 0.0095\n",
            "Epoch 113/400\n",
            "960/960 [==============================] - 0s 51us/step - loss: 0.0312 - val_loss: 0.0097\n",
            "Epoch 114/400\n",
            "960/960 [==============================] - 0s 51us/step - loss: 0.0437 - val_loss: 0.0085\n",
            "Epoch 115/400\n",
            "960/960 [==============================] - 0s 50us/step - loss: 0.0387 - val_loss: 0.0084\n",
            "Epoch 116/400\n",
            "960/960 [==============================] - 0s 53us/step - loss: 0.0420 - val_loss: 0.0112\n",
            "Epoch 117/400\n",
            "960/960 [==============================] - 0s 53us/step - loss: 0.0330 - val_loss: 0.0077\n",
            "Epoch 118/400\n",
            "960/960 [==============================] - 0s 51us/step - loss: 0.0335 - val_loss: 0.0080\n",
            "Epoch 119/400\n",
            "960/960 [==============================] - 0s 54us/step - loss: 0.0402 - val_loss: 0.0079\n",
            "Epoch 120/400\n",
            "960/960 [==============================] - 0s 56us/step - loss: 0.0361 - val_loss: 0.0082\n",
            "Epoch 121/400\n",
            "960/960 [==============================] - 0s 53us/step - loss: 0.0468 - val_loss: 0.0081\n",
            "Epoch 122/400\n",
            "960/960 [==============================] - 0s 56us/step - loss: 0.0313 - val_loss: 0.0093\n",
            "Epoch 123/400\n",
            "960/960 [==============================] - 0s 49us/step - loss: 0.0378 - val_loss: 0.0071\n",
            "Epoch 124/400\n",
            "960/960 [==============================] - 0s 50us/step - loss: 0.0288 - val_loss: 0.0066\n",
            "Epoch 125/400\n",
            "960/960 [==============================] - 0s 50us/step - loss: 0.0346 - val_loss: 0.0073\n",
            "Epoch 126/400\n",
            "960/960 [==============================] - 0s 54us/step - loss: 0.0440 - val_loss: 0.0070\n",
            "Epoch 127/400\n",
            "960/960 [==============================] - 0s 49us/step - loss: 0.0340 - val_loss: 0.0082\n",
            "Epoch 128/400\n",
            "960/960 [==============================] - 0s 53us/step - loss: 0.0316 - val_loss: 0.0062\n",
            "Epoch 129/400\n",
            "960/960 [==============================] - 0s 51us/step - loss: 0.0389 - val_loss: 0.0081\n",
            "Epoch 130/400\n",
            "960/960 [==============================] - 0s 51us/step - loss: 0.0295 - val_loss: 0.0067\n",
            "Epoch 131/400\n",
            "960/960 [==============================] - 0s 54us/step - loss: 0.0303 - val_loss: 0.0079\n",
            "Epoch 132/400\n",
            "960/960 [==============================] - 0s 52us/step - loss: 0.0286 - val_loss: 0.0078\n",
            "Epoch 133/400\n",
            "960/960 [==============================] - 0s 53us/step - loss: 0.0323 - val_loss: 0.0064\n",
            "Epoch 134/400\n",
            "960/960 [==============================] - 0s 51us/step - loss: 0.0338 - val_loss: 0.0058\n",
            "Epoch 135/400\n",
            "960/960 [==============================] - 0s 51us/step - loss: 0.0271 - val_loss: 0.0050\n",
            "Epoch 136/400\n",
            "960/960 [==============================] - 0s 54us/step - loss: 0.0273 - val_loss: 0.0078\n",
            "Epoch 137/400\n",
            "960/960 [==============================] - 0s 55us/step - loss: 0.0252 - val_loss: 0.0050\n",
            "Epoch 138/400\n",
            "960/960 [==============================] - 0s 53us/step - loss: 0.0342 - val_loss: 0.0057\n",
            "Epoch 139/400\n",
            "960/960 [==============================] - 0s 50us/step - loss: 0.0370 - val_loss: 0.0056\n",
            "Epoch 140/400\n",
            "960/960 [==============================] - 0s 52us/step - loss: 0.0368 - val_loss: 0.0049\n",
            "Epoch 141/400\n",
            "960/960 [==============================] - 0s 58us/step - loss: 0.0267 - val_loss: 0.0049\n",
            "Epoch 142/400\n",
            "960/960 [==============================] - 0s 56us/step - loss: 0.0263 - val_loss: 0.0056\n",
            "Epoch 143/400\n",
            "960/960 [==============================] - 0s 51us/step - loss: 0.0330 - val_loss: 0.0063\n",
            "Epoch 144/400\n",
            "960/960 [==============================] - 0s 51us/step - loss: 0.0310 - val_loss: 0.0058\n",
            "Epoch 145/400\n",
            "960/960 [==============================] - 0s 52us/step - loss: 0.0273 - val_loss: 0.0053\n",
            "Epoch 146/400\n",
            "960/960 [==============================] - 0s 51us/step - loss: 0.0240 - val_loss: 0.0055\n",
            "Epoch 147/400\n",
            "960/960 [==============================] - 0s 50us/step - loss: 0.0479 - val_loss: 0.0044\n",
            "Epoch 148/400\n",
            "960/960 [==============================] - 0s 52us/step - loss: 0.0238 - val_loss: 0.0050\n",
            "Epoch 149/400\n",
            "960/960 [==============================] - 0s 52us/step - loss: 0.0263 - val_loss: 0.0042\n",
            "Epoch 150/400\n",
            "960/960 [==============================] - 0s 54us/step - loss: 0.0209 - val_loss: 0.0054\n",
            "Epoch 151/400\n",
            "960/960 [==============================] - 0s 58us/step - loss: 0.0174 - val_loss: 0.0043\n",
            "Epoch 152/400\n",
            "960/960 [==============================] - 0s 55us/step - loss: 0.0303 - val_loss: 0.0038\n",
            "Epoch 153/400\n",
            "960/960 [==============================] - 0s 49us/step - loss: 0.0259 - val_loss: 0.0048\n",
            "Epoch 154/400\n",
            "960/960 [==============================] - 0s 49us/step - loss: 0.0250 - val_loss: 0.0037\n",
            "Epoch 155/400\n",
            "960/960 [==============================] - 0s 50us/step - loss: 0.0215 - val_loss: 0.0049\n",
            "Epoch 156/400\n",
            "960/960 [==============================] - 0s 52us/step - loss: 0.0159 - val_loss: 0.0033\n",
            "Epoch 157/400\n",
            "960/960 [==============================] - 0s 62us/step - loss: 0.0260 - val_loss: 0.0037\n",
            "Epoch 158/400\n",
            "960/960 [==============================] - 0s 52us/step - loss: 0.0252 - val_loss: 0.0039\n",
            "Epoch 159/400\n",
            "960/960 [==============================] - 0s 52us/step - loss: 0.0217 - val_loss: 0.0045\n",
            "Epoch 160/400\n",
            "960/960 [==============================] - 0s 51us/step - loss: 0.0291 - val_loss: 0.0033\n",
            "Epoch 161/400\n",
            "960/960 [==============================] - 0s 60us/step - loss: 0.0315 - val_loss: 0.0050\n",
            "Epoch 162/400\n",
            "960/960 [==============================] - 0s 52us/step - loss: 0.0280 - val_loss: 0.0041\n",
            "Epoch 163/400\n",
            "960/960 [==============================] - 0s 50us/step - loss: 0.0253 - val_loss: 0.0034\n",
            "Epoch 164/400\n",
            "960/960 [==============================] - 0s 55us/step - loss: 0.0128 - val_loss: 0.0033\n",
            "Epoch 165/400\n",
            "960/960 [==============================] - 0s 51us/step - loss: 0.0207 - val_loss: 0.0032\n",
            "Epoch 166/400\n",
            "960/960 [==============================] - 0s 51us/step - loss: 0.0229 - val_loss: 0.0057\n",
            "Epoch 167/400\n",
            "960/960 [==============================] - 0s 50us/step - loss: 0.0258 - val_loss: 0.0036\n",
            "Epoch 168/400\n",
            "960/960 [==============================] - 0s 50us/step - loss: 0.0245 - val_loss: 0.0035\n",
            "Epoch 169/400\n",
            "960/960 [==============================] - 0s 50us/step - loss: 0.0176 - val_loss: 0.0025\n",
            "Epoch 170/400\n",
            "960/960 [==============================] - 0s 53us/step - loss: 0.0208 - val_loss: 0.0033\n",
            "Epoch 171/400\n",
            "960/960 [==============================] - 0s 52us/step - loss: 0.0274 - val_loss: 0.0039\n",
            "Epoch 172/400\n",
            "960/960 [==============================] - 0s 52us/step - loss: 0.0165 - val_loss: 0.0051\n",
            "Epoch 173/400\n",
            "960/960 [==============================] - 0s 49us/step - loss: 0.0233 - val_loss: 0.0035\n",
            "Epoch 174/400\n",
            "960/960 [==============================] - 0s 49us/step - loss: 0.0183 - val_loss: 0.0032\n",
            "Epoch 175/400\n",
            "960/960 [==============================] - 0s 51us/step - loss: 0.0246 - val_loss: 0.0034\n",
            "Epoch 176/400\n",
            "960/960 [==============================] - 0s 55us/step - loss: 0.0263 - val_loss: 0.0029\n",
            "Epoch 177/400\n",
            "960/960 [==============================] - 0s 52us/step - loss: 0.0221 - val_loss: 0.0027\n",
            "Epoch 178/400\n",
            "960/960 [==============================] - 0s 53us/step - loss: 0.0193 - val_loss: 0.0035\n",
            "Epoch 179/400\n",
            "960/960 [==============================] - 0s 54us/step - loss: 0.0243 - val_loss: 0.0039\n",
            "Epoch 00179: early stopping\n"
          ],
          "name": "stdout"
        },
        {
          "output_type": "execute_result",
          "data": {
            "text/plain": [
              "<keras.callbacks.callbacks.History at 0x7fdfa4ce5cf8>"
            ]
          },
          "metadata": {
            "tags": []
          },
          "execution_count": 124
        }
      ]
    },
    {
      "cell_type": "code",
      "metadata": {
        "id": "F07CmI7U8GMI",
        "colab_type": "code",
        "colab": {}
      },
      "source": [
        "model_loss=pd.DataFrame(model.history.history)"
      ],
      "execution_count": 125,
      "outputs": []
    },
    {
      "cell_type": "code",
      "metadata": {
        "id": "OIqabYRo8o8Y",
        "colab_type": "code",
        "colab": {
          "base_uri": "https://localhost:8080/",
          "height": 284
        },
        "outputId": "6c8a6f98-5ad1-499c-d21e-5753df6269ea"
      },
      "source": [
        "model_loss.plot()"
      ],
      "execution_count": 126,
      "outputs": [
        {
          "output_type": "execute_result",
          "data": {
            "text/plain": [
              "<matplotlib.axes._subplots.AxesSubplot at 0x7fdfa4c4c240>"
            ]
          },
          "metadata": {
            "tags": []
          },
          "execution_count": 126
        },
        {
          "output_type": "display_data",
          "data": {
            "image/png": "[encoded data removed]",
            "text/plain": [
              "<Figure size 432x288 with 1 Axes>"
            ]
          },
          "metadata": {
            "tags": [],
            "needs_background": "light"
          }
        }
      ]
    },
    {
      "cell_type": "code",
      "metadata": {
        "id": "4kEtAOuH8rL8",
        "colab_type": "code",
        "colab": {}
      },
      "source": [
        "prediction=model.predict_classes(X_test)"
      ],
      "execution_count": 127,
      "outputs": []
    },
    {
      "cell_type": "code",
      "metadata": {
        "id": "YO1gytdV--l8",
        "colab_type": "code",
        "colab": {
          "base_uri": "https://localhost:8080/",
          "height": 204
        },
        "outputId": "de2e30e7-ff38-47cf-f85a-8489a4d4ee1f"
      },
      "source": [
        "print(confusion_matrix(y_test,prediction))\n",
        "print(classification_report(y_test,prediction))"
      ],
      "execution_count": 128,
      "outputs": [
        {
          "output_type": "stream",
          "text": [
            "[[238   0]\n",
            " [  0 174]]\n",
            "              precision    recall  f1-score   support\n",
            "\n",
            "           0       1.00      1.00      1.00       238\n",
            "           1       1.00      1.00      1.00       174\n",
            "\n",
            "    accuracy                           1.00       412\n",
            "   macro avg       1.00      1.00      1.00       412\n",
            "weighted avg       1.00      1.00      1.00       412\n",
            "\n"
          ],
          "name": "stdout"
        }
      ]
    },
    {
      "cell_type": "code",
      "metadata": {
        "id": "yk35rY1w_GSy",
        "colab_type": "code",
        "colab": {
          "base_uri": "https://localhost:8080/",
          "height": 51
        },
        "outputId": "88ef8cda-6f54-4533-a0cd-6e5be24a3295"
      },
      "source": [
        "#XGBOOST accuracy and standard deviation\n",
        "from sklearn.model_selection import cross_val_score\n",
        "accuracies = cross_val_score(estimator = classifier, X = X_train, y = y_train, cv = 10)\n",
        "print(\"Accuracy: {:.2f} %\".format(accuracies.mean()*100))\n",
        "print(\"Standard Deviation: {:.2f} %\".format(accuracies.std()*100))"
      ],
      "execution_count": 131,
      "outputs": [
        {
          "output_type": "stream",
          "text": [
            "Accuracy: 95.42 %\n",
            "Standard Deviation: 1.69 %\n"
          ],
          "name": "stdout"
        }
      ]
    },
    {
      "cell_type": "code",
      "metadata": {
        "id": "M66WBvNCCMbv",
        "colab_type": "code",
        "colab": {
          "base_uri": "https://localhost:8080/",
          "height": 204
        },
        "outputId": "3b718517-f27a-4a09-e7f6-c9755f9cefcc"
      },
      "source": [
        "df[df['Class']==1].head()"
      ],
      "execution_count": 149,
      "outputs": [
        {
          "output_type": "execute_result",
          "data": {
            "text/html": [
              "<div>\n",
              "<style scoped>\n",
              "    .dataframe tbody tr th:only-of-type {\n",
              "        vertical-align: middle;\n",
              "    }\n",
              "\n",
              "    .dataframe tbody tr th {\n",
              "        vertical-align: top;\n",
              "    }\n",
              "\n",
              "    .dataframe thead th {\n",
              "        text-align: right;\n",
              "    }\n",
              "</style>\n",
              "<table border=\"1\" class=\"dataframe\">\n",
              "  <thead>\n",
              "    <tr style=\"text-align: right;\">\n",
              "      <th></th>\n",
              "      <th>Image.Var</th>\n",
              "      <th>Image.Skew</th>\n",
              "      <th>Image.Curt</th>\n",
              "      <th>Entropy</th>\n",
              "      <th>Class</th>\n",
              "    </tr>\n",
              "  </thead>\n",
              "  <tbody>\n",
              "    <tr>\n",
              "      <th>762</th>\n",
              "      <td>-1.39710</td>\n",
              "      <td>3.31910</td>\n",
              "      <td>-1.392700</td>\n",
              "      <td>-1.99480</td>\n",
              "      <td>1</td>\n",
              "    </tr>\n",
              "    <tr>\n",
              "      <th>763</th>\n",
              "      <td>0.39012</td>\n",
              "      <td>-0.14279</td>\n",
              "      <td>-0.031994</td>\n",
              "      <td>0.35084</td>\n",
              "      <td>1</td>\n",
              "    </tr>\n",
              "    <tr>\n",
              "      <th>764</th>\n",
              "      <td>-1.66770</td>\n",
              "      <td>-7.15350</td>\n",
              "      <td>7.892900</td>\n",
              "      <td>0.96765</td>\n",
              "      <td>1</td>\n",
              "    </tr>\n",
              "    <tr>\n",
              "      <th>765</th>\n",
              "      <td>-3.84830</td>\n",
              "      <td>-12.80470</td>\n",
              "      <td>15.682400</td>\n",
              "      <td>-1.28100</td>\n",
              "      <td>1</td>\n",
              "    </tr>\n",
              "    <tr>\n",
              "      <th>766</th>\n",
              "      <td>-3.56810</td>\n",
              "      <td>-8.21300</td>\n",
              "      <td>10.083000</td>\n",
              "      <td>0.96765</td>\n",
              "      <td>1</td>\n",
              "    </tr>\n",
              "  </tbody>\n",
              "</table>\n",
              "</div>"
            ],
            "text/plain": [
              "     Image.Var  Image.Skew  Image.Curt  Entropy  Class\n",
              "762   -1.39710     3.31910   -1.392700 -1.99480      1\n",
              "763    0.39012    -0.14279   -0.031994  0.35084      1\n",
              "764   -1.66770    -7.15350    7.892900  0.96765      1\n",
              "765   -3.84830   -12.80470   15.682400 -1.28100      1\n",
              "766   -3.56810    -8.21300   10.083000  0.96765      1"
            ]
          },
          "metadata": {
            "tags": []
          },
          "execution_count": 149
        }
      ]
    },
    {
      "cell_type": "code",
      "metadata": {
        "id": "5U3bA1VKCdP2",
        "colab_type": "code",
        "colab": {}
      },
      "source": [
        "#Finding individual predictions\n",
        "find_prediction=np.array([3.45660,9.5228,-4.0112,-3.59440])\n",
        "find_prediction2=np.array([-3.56810,-8.213,10.08300,0.97])"
      ],
      "execution_count": 150,
      "outputs": []
    },
    {
      "cell_type": "code",
      "metadata": {
        "id": "X4ii4hdtCPg9",
        "colab_type": "code",
        "colab": {
          "base_uri": "https://localhost:8080/",
          "height": 34
        },
        "outputId": "675a4e7d-878d-4f80-e029-b13087757279"
      },
      "source": [
        "model.predict_classes(scaler.transform(find_prediction.reshape(-1,4)))\n"
      ],
      "execution_count": 153,
      "outputs": [
        {
          "output_type": "execute_result",
          "data": {
            "text/plain": [
              "array([[0]], dtype=int32)"
            ]
          },
          "metadata": {
            "tags": []
          },
          "execution_count": 153
        }
      ]
    },
    {
      "cell_type": "code",
      "metadata": {
        "id": "ariRulpjDBm3",
        "colab_type": "code",
        "colab": {
          "base_uri": "https://localhost:8080/",
          "height": 34
        },
        "outputId": "2bb0fab9-9f53-4ffe-88cc-227a673af14c"
      },
      "source": [
        "model.predict_classes(scaler.transform(find_prediction2.reshape(-1,4)))"
      ],
      "execution_count": 152,
      "outputs": [
        {
          "output_type": "execute_result",
          "data": {
            "text/plain": [
              "array([[1]], dtype=int32)"
            ]
          },
          "metadata": {
            "tags": []
          },
          "execution_count": 152
        }
      ]
    },
    {
      "cell_type": "code",
      "metadata": {
        "id": "aie_mmctEpcM",
        "colab_type": "code",
        "colab": {}
      },
      "source": [
        ""
      ],
      "execution_count": null,
      "outputs": []
    }
  ]
}